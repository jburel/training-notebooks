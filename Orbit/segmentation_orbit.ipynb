{
 "cells": [
  {
   "cell_type": "code",
   "execution_count": 2,
   "metadata": {},
   "outputs": [
    {
     "data": {
      "application/vnd.jupyter.widget-view+json": {
       "model_id": "176a1d6c-91d9-435c-ae0a-61a97368f48c",
       "version_major": 2,
       "version_minor": 0
      },
      "method": "display_data"
     },
     "metadata": {},
     "output_type": "display_data"
    }
   ],
   "source": [
    "%classpath add jar /opt/romero/orbit/lib/*"
   ]
  },
  {
   "cell_type": "code",
   "execution_count": 15,
   "metadata": {},
   "outputs": [
    {
     "data": {
      "application/vnd.jupyter.widget-view+json": {
       "model_id": "43afbe58-7c3d-4fb2-9d6e-a0470701df91",
       "version_major": 2,
       "version_minor": 0
      },
      "method": "display_data"
     },
     "metadata": {},
     "output_type": "display_data"
    }
   ],
   "source": [
    "\n",
    "g = new EasyForm(\"OMERO credentials\")\n",
    "g.addTextField(\"UserName\")\n",
    "g.addPasswordField(\"Password\")\n",
    "g\n"
   ]
  },
  {
   "cell_type": "code",
   "execution_count": 17,
   "metadata": {},
   "outputs": [],
   "source": [
    "import com.actelion.research.orbit.beans.RawDataFile\n",
    "import com.actelion.research.orbit.beans.RawAnnotation\n",
    "import com.actelion.research.orbit.imageAnalysis.dal.DALConfig\n",
    "import com.actelion.research.orbit.imageAnalysis.models.OrbitModel\n",
    "import com.actelion.research.orbit.imageAnalysis.models.SegmentationResult\n",
    "import com.actelion.research.orbit.imageAnalysis.utils.OrbitHelper\n",
    "\n",
    "import java.awt.Shape\n",
    "\n",
    "import com.actelion.research.orbit.imageAnalysis.components.*\n",
    "import com.actelion.research.orbit.imageAnalysis.models.*\n",
    "import com.actelion.research.orbit.imageprovider.ImageProviderOmero\n",
    "\n",
    "import omero.gateway.model.*\n",
    "import omero.model.*\n",
    "import omero.gateway.Gateway\n",
    "import omero.gateway.SecurityContext\n",
    "import static omero.rtypes.rstring\n",
    "import static omero.rtypes.rint\n",
    "import omero.gateway.facility.BrowseFacility\n",
    "import omero.gateway.facility.DataManagerFacility\n",
    "\n",
    "String userName = g['UserName']\n",
    "String password = g['Password']\n",
    "// Example script to show how to load Orbit ROI annotations from OMERO\n",
    "// and convert them to Polygons on the Image.\n",
    "\n",
    "// Get the OMERO Image ID\n",
    "int omeroImageId = 10004\n",
    "\n",
    "// Login to create a new connection with OMERO\n",
    "ImageProviderOmero imageProvider = new ImageProviderOmero()\n",
    "imageProvider.authenticateUser(userName, password)\n",
    "Gateway gateway = imageProvider.getGatewayAndCtx().getGateway()\n",
    "SecurityContext ctx = imageProvider.getGatewayAndCtx().getCtx()\n",
    "\n",
    "List<RawAnnotation> annotations = imageProvider.LoadRawAnnotationsByType(RawAnnotation.ANNOTATION_TYPE_MODEL)\n",
    "println(\"Found \" + annotations.size() + \" files\")\n",
    "// Use the first annotation\n",
    "int fileAnnId = annotations[0].getRawAnnotationId()\n",
    "println(fileAnnId)\n",
    "DALConfig.getImageProvider().authenticateUser(userName, password)\n",
    "OrbitModel model = OrbitModel.LoadFromOrbit(fileAnnId)\n",
    "println(\"Loaded Model: \" + model.getName())\n",
    "\n",
    "// Perform the segmentation\n",
    "SegmentationResult res = OrbitHelper.Segmentation(omeroImageId, model, null, 1)\n",
    "\n",
    "// handle the segmented objects\n",
    "println(\"SegmentationResult: \" + res.shapeList.size() + \" shapes\")\n",
    "for (Shape shape: res.shapeList) {\n",
    "    // can cast shape to Polygon or simply listPoints\n",
    "    String points = shape.listPoints()\n",
    "\n",
    "    // Create Polygon in OMERO\n",
    "    p = new PolygonI()\n",
    "    // Convert \"x, y; x, y\" format to \"x, y, x, y\" for OMERO\n",
    "    points = points.replace(\";\", \",\")\n",
    "    p.setPoints(rstring(points))\n",
    "    p.setTheT(rint(0))\n",
    "    p.setTheZ(rint(0))\n",
    "    p.setStrokeColor(rint(-65281))   // yellow\n",
    "\n",
    "    // Add each shape to an ROI on the Image\n",
    "    ImageI image = new ImageI(omeroImageId, false)\n",
    "    RoiI roi = new RoiI()\n",
    "    roi.setImage(image)\n",
    "    roi.addShape(p)\n",
    "\n",
    "    // Save\n",
    "    gateway.getUpdateService(ctx).saveAndReturnObject(roi)\n",
    "}\n",
    "\n",
    "println(\"Close...\")\n",
    "imageProvider.close()\n",
    "DALConfig.getImageProvider().close()"
   ]
  },
  {
   "cell_type": "code",
   "execution_count": null,
   "metadata": {},
   "outputs": [],
   "source": []
  }
 ],
 "metadata": {
  "kernelspec": {
   "display_name": "Groovy",
   "language": "groovy",
   "name": "groovy"
  },
  "language_info": {
   "codemirror_mode": "groovy",
   "file_extension": ".groovy",
   "mimetype": "",
   "name": "Groovy",
   "nbconverter_exporter": "",
   "version": "2.4.3"
  },
  "toc": {
   "base_numbering": 1,
   "nav_menu": {},
   "number_sections": false,
   "sideBar": false,
   "skip_h1_title": false,
   "title_cell": "Table of Contents",
   "title_sidebar": "Contents",
   "toc_cell": false,
   "toc_position": {},
   "toc_section_display": false,
   "toc_window_display": false
  }
 },
 "nbformat": 4,
 "nbformat_minor": 2
}
